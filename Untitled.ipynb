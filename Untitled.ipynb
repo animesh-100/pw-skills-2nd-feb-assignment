{
 "cells": [
  {
   "cell_type": "code",
   "execution_count": null,
   "id": "b4be746b-858a-49a0-afcb-4106d5d82423",
   "metadata": {},
   "outputs": [],
   "source": [
    "Explain with an example each when to use a for loop and a while loop."
   ]
  },
  {
   "cell_type": "code",
   "execution_count": 2,
   "id": "af6fe947-fd9b-479a-8b29-ec7b73c0c414",
   "metadata": {},
   "outputs": [
    {
     "name": "stdout",
     "output_type": "stream",
     "text": [
      "1\n",
      "2\n",
      "3\n",
      "4\n",
      "5\n"
     ]
    }
   ],
   "source": [
    "#A for loop is generally used when you want to iterate over a sequence of elements such as a list, tuple, set, or string. The syntax for a for loop is as follows:\n",
    "\n",
    "numbers = [1, 2, 3, 4, 5]\n",
    "for num in numbers:\n",
    "    print(num)"
   ]
  },
  {
   "cell_type": "code",
   "execution_count": 14,
   "id": "ec95b516-f01c-4759-9e4d-d0f379181775",
   "metadata": {},
   "outputs": [
    {
     "name": "stdout",
     "output_type": "stream",
     "text": [
      "2\n",
      "3\n",
      "4\n",
      "5\n",
      "6\n"
     ]
    }
   ],
   "source": [
    "#On the other hand, a while loop is used when you want to repeat a block of code while a certain condition is true. The syntax for a while loop is as follows:\n",
    "    \n",
    "i = 1\n",
    "while i<6:\n",
    "    i=i+1\n",
    "    print(i)\n"
   ]
  },
  {
   "cell_type": "code",
   "execution_count": null,
   "id": "61f30ad0-ecfb-4670-8a90-16a051f764f8",
   "metadata": {},
   "outputs": [],
   "source": [
    "Write a python program to print the sum and product of the first 10 natural numbers using for\n",
    "and while loop.\n",
    "\n"
   ]
  },
  {
   "cell_type": "code",
   "execution_count": 2,
   "id": "d9ab4a67-5c56-43bd-a24d-9e60d3e15d83",
   "metadata": {},
   "outputs": [
    {
     "name": "stdout",
     "output_type": "stream",
     "text": [
      "55\n"
     ]
    }
   ],
   "source": [
    "sum=0\n",
    "for i in range(0,11):\n",
    "    sum=sum+i\n",
    "print(sum)\n",
    "\n",
    "\n",
    "\n",
    "\n",
    "\n",
    "\n",
    "    "
   ]
  },
  {
   "cell_type": "code",
   "execution_count": 4,
   "id": "04ef4a73-42d5-48b7-ac26-ad5356e993bc",
   "metadata": {},
   "outputs": [
    {
     "name": "stdout",
     "output_type": "stream",
     "text": [
      "3628800\n"
     ]
    }
   ],
   "source": [
    "pro=1\n",
    "for i in range(1,11):\n",
    "    pro=pro*i\n",
    "print(pro)\n",
    "\n",
    "\n",
    "\n",
    "\n",
    "    "
   ]
  },
  {
   "cell_type": "code",
   "execution_count": 8,
   "id": "cd01b471-52c0-49ef-9e4d-4c2069a44bd5",
   "metadata": {},
   "outputs": [
    {
     "name": "stdout",
     "output_type": "stream",
     "text": [
      "55\n"
     ]
    }
   ],
   "source": [
    "sum=0\n",
    "i=1\n",
    "while (i<=10):\n",
    "    sum=sum+i\n",
    "    i=i+1\n",
    "print(sum)"
   ]
  },
  {
   "cell_type": "code",
   "execution_count": 9,
   "id": "09d8216b-081b-40f2-9eb0-a44c83ff623f",
   "metadata": {},
   "outputs": [
    {
     "name": "stdout",
     "output_type": "stream",
     "text": [
      "3628800\n"
     ]
    }
   ],
   "source": [
    "pro=1\n",
    "i=1\n",
    "while (i<=10):\n",
    "    pro=pro*i\n",
    "    i=i+1\n",
    "print(pro)"
   ]
  },
  {
   "cell_type": "code",
   "execution_count": 12,
   "id": "67906543-4ff9-4f17-8e30-2b7248194cc6",
   "metadata": {},
   "outputs": [],
   "source": [
    "#Write a program to filter count vowels in the below-given string.\n",
    "string = \"I want to become a data scientist\"\n"
   ]
  },
  {
   "cell_type": "code",
   "execution_count": 11,
   "id": "399cbb29-689d-4ab0-91cb-a2348a3bdfd3",
   "metadata": {},
   "outputs": [
    {
     "name": "stdout",
     "output_type": "stream",
     "text": [
      "Filtered string: Iaoeoeaaaiei\n",
      "Number of vowels: 12\n"
     ]
    }
   ],
   "source": [
    "string = \"I want to become a data scientist\"\n",
    "\n",
    "# Define a function to filter vowels\n",
    "def filter_vowels(string):\n",
    "    vowels = \"aeiouAEIOU\" # Define a string containing all vowels\n",
    "    filtered_string = \"\" # Initialize an empty string to store the filtered result\n",
    "    \n",
    "    # Iterate over each character in the string\n",
    "    for char in string:\n",
    "        if char in vowels:\n",
    "            filtered_string += char # Add the character to the filtered string if it's a vowel\n",
    "            \n",
    "    return filtered_string\n",
    "\n",
    "# Call the function and print the result\n",
    "filtered_string = filter_vowels(string)\n",
    "print(\"Filtered string:\", filtered_string)\n",
    "print(\"Number of vowels:\", len(filtered_string))\n"
   ]
  },
  {
   "cell_type": "code",
   "execution_count": 13,
   "id": "4b8b4915-46ac-4b3f-926f-43ee32d5b5bf",
   "metadata": {},
   "outputs": [
    {
     "ename": "SyntaxError",
     "evalue": "invalid syntax (2430148914.py, line 1)",
     "output_type": "error",
     "traceback": [
      "\u001b[0;36m  Cell \u001b[0;32mIn[13], line 1\u001b[0;36m\u001b[0m\n\u001b[0;31m    Q4. Create a list of numbers from 1 to 100. Use for loop and while loop to calculate the cube of each\u001b[0m\n\u001b[0m               ^\u001b[0m\n\u001b[0;31mSyntaxError\u001b[0m\u001b[0;31m:\u001b[0m invalid syntax\n"
     ]
    }
   ],
   "source": [
    "Q4. Create a list of numbers from 1 to 100. Use for loop and while loop to calculate the cube of each\n",
    "number and if the cube of that number is divisible by 4 or 5 then append that number in a list and print\n",
    "that list.\n"
   ]
  },
  {
   "cell_type": "code",
   "execution_count": 18,
   "id": "e8209382-6e7c-4ab9-895b-0900f52dbcba",
   "metadata": {},
   "outputs": [
    {
     "name": "stdout",
     "output_type": "stream",
     "text": [
      "[2, 4, 5, 6, 8, 10, 12, 14, 15, 16, 18, 20, 22, 24, 25, 26, 28, 30, 32, 34, 35, 36, 38, 40, 42, 44, 45, 46, 48, 50, 52, 54, 55, 56, 58, 60, 62, 64, 65, 66, 68, 70, 72, 74, 75, 76, 78, 80, 82, 84, 85, 86, 88, 90, 92, 94, 95, 96, 98, 100]\n",
      "[2, 4, 5, 6, 8, 10, 12, 14, 15, 16, 18, 20, 22, 24, 25, 26, 28, 30, 32, 34, 35, 36, 38, 40, 42, 44, 45, 46, 48, 50, 52, 54, 55, 56, 58, 60, 62, 64, 65, 66, 68, 70, 72, 74, 75, 76, 78, 80, 82, 84, 85, 86, 88, 90, 92, 94, 95, 96, 98, 100]\n"
     ]
    }
   ],
   "source": [
    "# create an empty list to store the cubes of numbers divisible by 4 or 5\n",
    "result = []\n",
    "\n",
    "# iterate over the range of numbers from 1 to 100\n",
    "for num in range(1, 101):\n",
    "    # calculate the cube of the number\n",
    "    cube = num ** 3\n",
    "    # check if the cube is divisible by 4 or 5\n",
    "    if cube % 4 == 0 or cube % 5 == 0:\n",
    "        # if it is, append the number to the result list\n",
    "        result.append(num)\n",
    "\n",
    "# print the result list\n",
    "print(result)\n",
    "#Using a while loop:\n",
    "\n",
    "\n",
    "# create an empty list to store the cubes of numbers divisible by 4 or 5\n",
    "result = []\n",
    "\n",
    "# set the initial value of num to 1\n",
    "num = 1\n",
    "\n",
    "# loop until num reaches 100\n",
    "while num <= 100:\n",
    "    # calculate the cube of the number\n",
    "    cube = num ** 3\n",
    "    # check if the cube is divisible by 4 or 5\n",
    "    if cube % 4 == 0 or cube % 5 == 0:\n",
    "        # if it is, append the number to the result list\n",
    "        result.append(num)\n",
    "    # increment num by 1\n",
    "    num += 1\n",
    "\n",
    "# print the result list\n",
    "print(result)\n",
    "\n",
    "\n",
    "\n",
    "\n"
   ]
  },
  {
   "cell_type": "code",
   "execution_count": 16,
   "id": "0cf30a96-a241-4f30-9731-f6a3847012c2",
   "metadata": {},
   "outputs": [
    {
     "ename": "SyntaxError",
     "evalue": "invalid syntax (1414622867.py, line 1)",
     "output_type": "error",
     "traceback": [
      "\u001b[0;36m  Cell \u001b[0;32mIn[16], line 1\u001b[0;36m\u001b[0m\n\u001b[0;31m    Q3. Create a python program to compute the electricity bill for a household.\u001b[0m\n\u001b[0m               ^\u001b[0m\n\u001b[0;31mSyntaxError\u001b[0m\u001b[0;31m:\u001b[0m invalid syntax\n"
     ]
    }
   ],
   "source": [
    "Q3. Create a python program to compute the electricity bill for a household.\n",
    "\n",
    "Q4. Create a list of numbers from 1 to 100. Use for loop and while loop to calculate the cube of each\n",
    "number and if the cube of that number is divisible by 4 or 5 then append that number in a list and print\n",
    "that list.\n",
    "The per-unit charges in rupees are as follows: For the first 100 units, the user will be charged Rs. 4.5 per\n",
    "unit, for the next 100 units, the user will be charged Rs. 6 per unit, and for the next 100 units, the user will\n",
    "be charged Rs. 10 per unit, After 300 units and above the user will be charged Rs. 20 per unit."
   ]
  },
  {
   "cell_type": "code",
   "execution_count": 17,
   "id": "1c6604ee-675e-4a5a-b783-fa06527d6a32",
   "metadata": {},
   "outputs": [
    {
     "name": "stdin",
     "output_type": "stream",
     "text": [
      "Enter the number of units consumed:  15\n"
     ]
    },
    {
     "name": "stdout",
     "output_type": "stream",
     "text": [
      "Electricity Bill: Rs. 67.5\n"
     ]
    }
   ],
   "source": [
    "units = int(input(\"Enter the number of units consumed: \"))\n",
    "\n",
    "if units <= 100:\n",
    "    bill = units * 4.5\n",
    "elif units <= 200:\n",
    "    bill = 100 * 4.5 + (units - 100) * 6\n",
    "elif units <= 300:\n",
    "    bill = 100 * 4.5 + 100 * 6 + (units - 200) * 10\n",
    "else:\n",
    "    bill = 100 * 4.5 + 100 * 6 + 100 * 10 + (units - 300) * 20\n",
    "\n",
    "print(\"Electricity Bill: Rs.\", bill)\n"
   ]
  },
  {
   "cell_type": "code",
   "execution_count": null,
   "id": "8d408f78-b738-461c-a311-f6aa9f8faf21",
   "metadata": {},
   "outputs": [],
   "source": []
  }
 ],
 "metadata": {
  "kernelspec": {
   "display_name": "Python 3 (ipykernel)",
   "language": "python",
   "name": "python3"
  },
  "language_info": {
   "codemirror_mode": {
    "name": "ipython",
    "version": 3
   },
   "file_extension": ".py",
   "mimetype": "text/x-python",
   "name": "python",
   "nbconvert_exporter": "python",
   "pygments_lexer": "ipython3",
   "version": "3.10.8"
  }
 },
 "nbformat": 4,
 "nbformat_minor": 5
}
